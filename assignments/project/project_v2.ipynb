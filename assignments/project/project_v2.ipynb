{
 "cells": [
  {
   "cell_type": "code",
   "execution_count": 1,
   "metadata": {},
   "outputs": [
    {
     "name": "stderr",
     "output_type": "stream",
     "text": [
      "/Users/alexkorman/miniconda3/envs/dl/lib/python3.10/site-packages/tqdm/auto.py:21: TqdmWarning: IProgress not found. Please update jupyter and ipywidgets. See https://ipywidgets.readthedocs.io/en/stable/user_install.html\n",
      "  from .autonotebook import tqdm as notebook_tqdm\n"
     ]
    }
   ],
   "source": [
    "import pandas as pd\n",
    "import numpy as np\n",
    "import torch"
   ]
  },
  {
   "cell_type": "code",
   "execution_count": 360,
   "metadata": {},
   "outputs": [],
   "source": [
    "train = pd.read_csv(\"train_values.csv\")\n",
    "train_labels = pd.read_csv(\"train_labels.csv\")\n",
    "test = pd.read_csv(\"test_values.csv\")"
   ]
  },
  {
   "cell_type": "code",
   "execution_count": 361,
   "metadata": {},
   "outputs": [
    {
     "data": {
      "text/plain": [
       "(Index(['building_id', 'geo_level_1_id', 'geo_level_2_id', 'geo_level_3_id',\n",
       "        'count_floors_pre_eq', 'age', 'area_percentage', 'height_percentage',\n",
       "        'land_surface_condition', 'foundation_type', 'roof_type',\n",
       "        'ground_floor_type', 'other_floor_type', 'position',\n",
       "        'plan_configuration', 'has_superstructure_adobe_mud',\n",
       "        'has_superstructure_mud_mortar_stone', 'has_superstructure_stone_flag',\n",
       "        'has_superstructure_cement_mortar_stone',\n",
       "        'has_superstructure_mud_mortar_brick',\n",
       "        'has_superstructure_cement_mortar_brick', 'has_superstructure_timber',\n",
       "        'has_superstructure_bamboo', 'has_superstructure_rc_non_engineered',\n",
       "        'has_superstructure_rc_engineered', 'has_superstructure_other',\n",
       "        'legal_ownership_status', 'count_families', 'has_secondary_use',\n",
       "        'has_secondary_use_agriculture', 'has_secondary_use_hotel',\n",
       "        'has_secondary_use_rental', 'has_secondary_use_institution',\n",
       "        'has_secondary_use_school', 'has_secondary_use_industry',\n",
       "        'has_secondary_use_health_post', 'has_secondary_use_gov_office',\n",
       "        'has_secondary_use_use_police', 'has_secondary_use_other'],\n",
       "       dtype='object'),\n",
       " Index(['building_id', 'damage_grade'], dtype='object'))"
      ]
     },
     "execution_count": 361,
     "metadata": {},
     "output_type": "execute_result"
    }
   ],
   "source": [
    "train.columns, train_labels.columns"
   ]
  },
  {
   "cell_type": "code",
   "execution_count": 362,
   "metadata": {},
   "outputs": [
    {
     "data": {
      "text/plain": [
       "((260601, 39), (86868, 39))"
      ]
     },
     "execution_count": 362,
     "metadata": {},
     "output_type": "execute_result"
    }
   ],
   "source": [
    "train.shape, test.shape"
   ]
  },
  {
   "cell_type": "code",
   "execution_count": 363,
   "metadata": {},
   "outputs": [
    {
     "data": {
      "text/plain": [
       "array([[1., 0., 0., 0., 0.],\n",
       "       [1., 0., 0., 0., 0.],\n",
       "       [1., 0., 0., 0., 0.],\n",
       "       ...,\n",
       "       [1., 0., 0., 0., 0.],\n",
       "       [1., 0., 0., 0., 0.],\n",
       "       [1., 0., 0., 0., 0.]])"
      ]
     },
     "execution_count": 363,
     "metadata": {},
     "output_type": "execute_result"
    }
   ],
   "source": [
    "# one hot encode column\n",
    "\n",
    "def one_hot(df, col):\n",
    "    unique = df[col].unique()\n",
    "    keys = {}\n",
    "    for i, k in enumerate(unique):\n",
    "        code = np.zeros(len(unique))\n",
    "        code[i] = 1\n",
    "        keys[k] = code\n",
    "\n",
    "    hot_col = []\n",
    "    for i in range(len(df[col])):\n",
    "        k = df[col].loc[i]\n",
    "        hot_col.append(keys[k])\n",
    "\n",
    "    return np.array(hot_col)\n",
    "\n",
    "\n",
    "one_hot(train, \"foundation_type\")"
   ]
  },
  {
   "cell_type": "code",
   "execution_count": 364,
   "metadata": {},
   "outputs": [],
   "source": [
    "# apply encoding to multiple columns\n",
    "\n",
    "def apply_one_hot(df, columns):\n",
    "    for col in columns:\n",
    "       new_col = one_hot(df, col)\n",
    "       for i in range(new_col.shape[1]): # make each encoding its own column\n",
    "           df[col+\"_\"+str(i)] = new_col[:,i]\n",
    "       df.drop([col], inplace = True, axis=1)\n",
    "    return df"
   ]
  },
  {
   "cell_type": "code",
   "execution_count": 365,
   "metadata": {},
   "outputs": [],
   "source": [
    "# list of all columns to be encoded\n",
    "cols_to_use = [\n",
    "        'count_floors_pre_eq', 'age', 'area_percentage', 'height_percentage',\n",
    "        'land_surface_condition', 'foundation_type', 'roof_type',\n",
    "        'ground_floor_type', # 'other_floor_type', 'position',\n",
    "       ]\n",
    "cols_to_update = [\"land_surface_condition\", \"foundation_type\", \"roof_type\", \"ground_floor_type\"]#, #\"other_floor_type\", \"position\"]\n",
    "\n",
    "train = train[cols_to_use]\n",
    "test = test[cols_to_use]"
   ]
  },
  {
   "cell_type": "code",
   "execution_count": 366,
   "metadata": {},
   "outputs": [],
   "source": [
    "train_hot = apply_one_hot(train, cols_to_update)\n",
    "test_hot =  apply_one_hot(test, cols_to_update)"
   ]
  },
  {
   "cell_type": "code",
   "execution_count": 367,
   "metadata": {},
   "outputs": [
    {
     "data": {
      "text/html": [
       "<div>\n",
       "<style scoped>\n",
       "    .dataframe tbody tr th:only-of-type {\n",
       "        vertical-align: middle;\n",
       "    }\n",
       "\n",
       "    .dataframe tbody tr th {\n",
       "        vertical-align: top;\n",
       "    }\n",
       "\n",
       "    .dataframe thead th {\n",
       "        text-align: right;\n",
       "    }\n",
       "</style>\n",
       "<table border=\"1\" class=\"dataframe\">\n",
       "  <thead>\n",
       "    <tr style=\"text-align: right;\">\n",
       "      <th></th>\n",
       "      <th>count_floors_pre_eq</th>\n",
       "      <th>age</th>\n",
       "      <th>area_percentage</th>\n",
       "      <th>height_percentage</th>\n",
       "      <th>land_surface_condition_0</th>\n",
       "      <th>land_surface_condition_1</th>\n",
       "      <th>land_surface_condition_2</th>\n",
       "      <th>foundation_type_0</th>\n",
       "      <th>foundation_type_1</th>\n",
       "      <th>foundation_type_2</th>\n",
       "      <th>foundation_type_3</th>\n",
       "      <th>foundation_type_4</th>\n",
       "      <th>roof_type_0</th>\n",
       "      <th>roof_type_1</th>\n",
       "      <th>roof_type_2</th>\n",
       "      <th>ground_floor_type_0</th>\n",
       "      <th>ground_floor_type_1</th>\n",
       "      <th>ground_floor_type_2</th>\n",
       "      <th>ground_floor_type_3</th>\n",
       "      <th>ground_floor_type_4</th>\n",
       "    </tr>\n",
       "  </thead>\n",
       "  <tbody>\n",
       "    <tr>\n",
       "      <th>0</th>\n",
       "      <td>2</td>\n",
       "      <td>30</td>\n",
       "      <td>6</td>\n",
       "      <td>5</td>\n",
       "      <td>1.0</td>\n",
       "      <td>0.0</td>\n",
       "      <td>0.0</td>\n",
       "      <td>1.0</td>\n",
       "      <td>0.0</td>\n",
       "      <td>0.0</td>\n",
       "      <td>0.0</td>\n",
       "      <td>0.0</td>\n",
       "      <td>1.0</td>\n",
       "      <td>0.0</td>\n",
       "      <td>0.0</td>\n",
       "      <td>1.0</td>\n",
       "      <td>0.0</td>\n",
       "      <td>0.0</td>\n",
       "      <td>0.0</td>\n",
       "      <td>0.0</td>\n",
       "    </tr>\n",
       "    <tr>\n",
       "      <th>1</th>\n",
       "      <td>2</td>\n",
       "      <td>10</td>\n",
       "      <td>8</td>\n",
       "      <td>7</td>\n",
       "      <td>0.0</td>\n",
       "      <td>1.0</td>\n",
       "      <td>0.0</td>\n",
       "      <td>1.0</td>\n",
       "      <td>0.0</td>\n",
       "      <td>0.0</td>\n",
       "      <td>0.0</td>\n",
       "      <td>0.0</td>\n",
       "      <td>1.0</td>\n",
       "      <td>0.0</td>\n",
       "      <td>0.0</td>\n",
       "      <td>0.0</td>\n",
       "      <td>1.0</td>\n",
       "      <td>0.0</td>\n",
       "      <td>0.0</td>\n",
       "      <td>0.0</td>\n",
       "    </tr>\n",
       "    <tr>\n",
       "      <th>2</th>\n",
       "      <td>2</td>\n",
       "      <td>10</td>\n",
       "      <td>5</td>\n",
       "      <td>5</td>\n",
       "      <td>1.0</td>\n",
       "      <td>0.0</td>\n",
       "      <td>0.0</td>\n",
       "      <td>1.0</td>\n",
       "      <td>0.0</td>\n",
       "      <td>0.0</td>\n",
       "      <td>0.0</td>\n",
       "      <td>0.0</td>\n",
       "      <td>1.0</td>\n",
       "      <td>0.0</td>\n",
       "      <td>0.0</td>\n",
       "      <td>1.0</td>\n",
       "      <td>0.0</td>\n",
       "      <td>0.0</td>\n",
       "      <td>0.0</td>\n",
       "      <td>0.0</td>\n",
       "    </tr>\n",
       "    <tr>\n",
       "      <th>3</th>\n",
       "      <td>2</td>\n",
       "      <td>10</td>\n",
       "      <td>6</td>\n",
       "      <td>5</td>\n",
       "      <td>1.0</td>\n",
       "      <td>0.0</td>\n",
       "      <td>0.0</td>\n",
       "      <td>1.0</td>\n",
       "      <td>0.0</td>\n",
       "      <td>0.0</td>\n",
       "      <td>0.0</td>\n",
       "      <td>0.0</td>\n",
       "      <td>1.0</td>\n",
       "      <td>0.0</td>\n",
       "      <td>0.0</td>\n",
       "      <td>1.0</td>\n",
       "      <td>0.0</td>\n",
       "      <td>0.0</td>\n",
       "      <td>0.0</td>\n",
       "      <td>0.0</td>\n",
       "    </tr>\n",
       "    <tr>\n",
       "      <th>4</th>\n",
       "      <td>3</td>\n",
       "      <td>30</td>\n",
       "      <td>8</td>\n",
       "      <td>9</td>\n",
       "      <td>1.0</td>\n",
       "      <td>0.0</td>\n",
       "      <td>0.0</td>\n",
       "      <td>1.0</td>\n",
       "      <td>0.0</td>\n",
       "      <td>0.0</td>\n",
       "      <td>0.0</td>\n",
       "      <td>0.0</td>\n",
       "      <td>1.0</td>\n",
       "      <td>0.0</td>\n",
       "      <td>0.0</td>\n",
       "      <td>1.0</td>\n",
       "      <td>0.0</td>\n",
       "      <td>0.0</td>\n",
       "      <td>0.0</td>\n",
       "      <td>0.0</td>\n",
       "    </tr>\n",
       "  </tbody>\n",
       "</table>\n",
       "</div>"
      ],
      "text/plain": [
       "   count_floors_pre_eq  age  area_percentage  height_percentage  \\\n",
       "0                    2   30                6                  5   \n",
       "1                    2   10                8                  7   \n",
       "2                    2   10                5                  5   \n",
       "3                    2   10                6                  5   \n",
       "4                    3   30                8                  9   \n",
       "\n",
       "   land_surface_condition_0  land_surface_condition_1  \\\n",
       "0                       1.0                       0.0   \n",
       "1                       0.0                       1.0   \n",
       "2                       1.0                       0.0   \n",
       "3                       1.0                       0.0   \n",
       "4                       1.0                       0.0   \n",
       "\n",
       "   land_surface_condition_2  foundation_type_0  foundation_type_1  \\\n",
       "0                       0.0                1.0                0.0   \n",
       "1                       0.0                1.0                0.0   \n",
       "2                       0.0                1.0                0.0   \n",
       "3                       0.0                1.0                0.0   \n",
       "4                       0.0                1.0                0.0   \n",
       "\n",
       "   foundation_type_2  foundation_type_3  foundation_type_4  roof_type_0  \\\n",
       "0                0.0                0.0                0.0          1.0   \n",
       "1                0.0                0.0                0.0          1.0   \n",
       "2                0.0                0.0                0.0          1.0   \n",
       "3                0.0                0.0                0.0          1.0   \n",
       "4                0.0                0.0                0.0          1.0   \n",
       "\n",
       "   roof_type_1  roof_type_2  ground_floor_type_0  ground_floor_type_1  \\\n",
       "0          0.0          0.0                  1.0                  0.0   \n",
       "1          0.0          0.0                  0.0                  1.0   \n",
       "2          0.0          0.0                  1.0                  0.0   \n",
       "3          0.0          0.0                  1.0                  0.0   \n",
       "4          0.0          0.0                  1.0                  0.0   \n",
       "\n",
       "   ground_floor_type_2  ground_floor_type_3  ground_floor_type_4  \n",
       "0                  0.0                  0.0                  0.0  \n",
       "1                  0.0                  0.0                  0.0  \n",
       "2                  0.0                  0.0                  0.0  \n",
       "3                  0.0                  0.0                  0.0  \n",
       "4                  0.0                  0.0                  0.0  "
      ]
     },
     "execution_count": 367,
     "metadata": {},
     "output_type": "execute_result"
    }
   ],
   "source": [
    "train_hot.head()"
   ]
  },
  {
   "cell_type": "code",
   "execution_count": 368,
   "metadata": {},
   "outputs": [
    {
     "data": {
      "text/plain": [
       "True"
      ]
     },
     "execution_count": 368,
     "metadata": {},
     "output_type": "execute_result"
    }
   ],
   "source": [
    "# sanity check all categories are present in train and test set\n",
    "len(train_hot.columns) == len(test_hot.columns)"
   ]
  },
  {
   "cell_type": "code",
   "execution_count": 369,
   "metadata": {},
   "outputs": [],
   "source": [
    "x = train_hot.values\n",
    "x_test = test_hot.values\n",
    "labels = train_labels.damage_grade.values"
   ]
  },
  {
   "cell_type": "code",
   "execution_count": 370,
   "metadata": {},
   "outputs": [
    {
     "data": {
      "text/plain": [
       "((260601, 20), (260601,))"
      ]
     },
     "execution_count": 370,
     "metadata": {},
     "output_type": "execute_result"
    }
   ],
   "source": [
    "x.shape, labels.shape"
   ]
  },
  {
   "cell_type": "code",
   "execution_count": 371,
   "metadata": {},
   "outputs": [],
   "source": [
    "scaler = StandardScaler()\n",
    "scaler.fit(x[:,:4])\n",
    "x_x = scaler.transform(x[:,:4])\n",
    "x[:,:4] = x_x"
   ]
  },
  {
   "cell_type": "code",
   "execution_count": 372,
   "metadata": {},
   "outputs": [],
   "source": [
    "import copy\n",
    "\n",
    "\n",
    "train_hot_w_labels = copy.deepcopy(train_hot)\n",
    "train_hot_w_labels[\"labels\"] = labels\n",
    "corr = train_hot.corr()"
   ]
  },
  {
   "cell_type": "code",
   "execution_count": 374,
   "metadata": {},
   "outputs": [
    {
     "data": {
      "image/png": "[encoded data removed]",
      "text/plain": [
       "<Figure size 640x480 with 1 Axes>"
      ]
     },
     "metadata": {},
     "output_type": "display_data"
    }
   ],
   "source": [
    "import matplotlib.pyplot as plt\n",
    "fig, ax = plt.subplots()\n",
    "im = ax.imshow(corr)\n",
    "ax.set_xticks(np.arange(len(train_hot_w_labels.columns.values)), labels=train_hot_w_labels.columns.values)\n",
    "ax.set_yticks(np.arange(len(train_hot_w_labels.columns.values)), labels=train_hot_w_labels.columns.values)\n",
    "\n",
    "plt.setp(ax.get_xticklabels(), rotation=45, ha=\"right\",\n",
    "         rotation_mode=\"anchor\")\n",
    "\n",
    "# for i in range(len(train_hot_w_labels.columns.values)):\n",
    "#     for j in range(len(train_hot_w_labels.columns.values)):\n",
    "#         text = ax.text(j, i, corr[i, j],\n",
    "#                        ha=\"center\", va=\"center\", color=\"w\")\n",
    "\n",
    "# plt.imshow(corr, cmap='hot', interpolation='nearest')\n",
    "fig.figsize = (100,100)\n",
    "# fig.tight_layout()\n",
    "plt.show()"
   ]
  },
  {
   "cell_type": "code",
   "execution_count": 375,
   "metadata": {},
   "outputs": [],
   "source": [
    "# for preprocessing the data\n",
    "from sklearn.preprocessing import StandardScaler\n",
    "\n",
    "# the model\n",
    "from sklearn.ensemble import RandomForestClassifier\n",
    "\n",
    "# for combining the preprocess with model training\n",
    "from sklearn.pipeline import make_pipeline\n",
    "\n",
    "# for optimizing the hyperparameters of the pipeline\n",
    "from sklearn.model_selection import GridSearchCV\n"
   ]
  },
  {
   "cell_type": "code",
   "execution_count": 376,
   "metadata": {},
   "outputs": [
    {
     "data": {
      "text/html": [
       "<style>#sk-container-id-10 {color: black;background-color: white;}#sk-container-id-10 pre{padding: 0;}#sk-container-id-10 div.sk-toggleable {background-color: white;}#sk-container-id-10 label.sk-toggleable__label {cursor: pointer;display: block;width: 100%;margin-bottom: 0;padding: 0.3em;box-sizing: border-box;text-align: center;}#sk-container-id-10 label.sk-toggleable__label-arrow:before {content: \"▸\";float: left;margin-right: 0.25em;color: #696969;}#sk-container-id-10 label.sk-toggleable__label-arrow:hover:before {color: black;}#sk-container-id-10 div.sk-estimator:hover label.sk-toggleable__label-arrow:before {color: black;}#sk-container-id-10 div.sk-toggleable__content {max-height: 0;max-width: 0;overflow: hidden;text-align: left;background-color: #f0f8ff;}#sk-container-id-10 div.sk-toggleable__content pre {margin: 0.2em;color: black;border-radius: 0.25em;background-color: #f0f8ff;}#sk-container-id-10 input.sk-toggleable__control:checked~div.sk-toggleable__content {max-height: 200px;max-width: 100%;overflow: auto;}#sk-container-id-10 input.sk-toggleable__control:checked~label.sk-toggleable__label-arrow:before {content: \"▾\";}#sk-container-id-10 div.sk-estimator input.sk-toggleable__control:checked~label.sk-toggleable__label {background-color: #d4ebff;}#sk-container-id-10 div.sk-label input.sk-toggleable__control:checked~label.sk-toggleable__label {background-color: #d4ebff;}#sk-container-id-10 input.sk-hidden--visually {border: 0;clip: rect(1px 1px 1px 1px);clip: rect(1px, 1px, 1px, 1px);height: 1px;margin: -1px;overflow: hidden;padding: 0;position: absolute;width: 1px;}#sk-container-id-10 div.sk-estimator {font-family: monospace;background-color: #f0f8ff;border: 1px dotted black;border-radius: 0.25em;box-sizing: border-box;margin-bottom: 0.5em;}#sk-container-id-10 div.sk-estimator:hover {background-color: #d4ebff;}#sk-container-id-10 div.sk-parallel-item::after {content: \"\";width: 100%;border-bottom: 1px solid gray;flex-grow: 1;}#sk-container-id-10 div.sk-label:hover label.sk-toggleable__label {background-color: #d4ebff;}#sk-container-id-10 div.sk-serial::before {content: \"\";position: absolute;border-left: 1px solid gray;box-sizing: border-box;top: 0;bottom: 0;left: 50%;z-index: 0;}#sk-container-id-10 div.sk-serial {display: flex;flex-direction: column;align-items: center;background-color: white;padding-right: 0.2em;padding-left: 0.2em;position: relative;}#sk-container-id-10 div.sk-item {position: relative;z-index: 1;}#sk-container-id-10 div.sk-parallel {display: flex;align-items: stretch;justify-content: center;background-color: white;position: relative;}#sk-container-id-10 div.sk-item::before, #sk-container-id-10 div.sk-parallel-item::before {content: \"\";position: absolute;border-left: 1px solid gray;box-sizing: border-box;top: 0;bottom: 0;left: 50%;z-index: -1;}#sk-container-id-10 div.sk-parallel-item {display: flex;flex-direction: column;z-index: 1;position: relative;background-color: white;}#sk-container-id-10 div.sk-parallel-item:first-child::after {align-self: flex-end;width: 50%;}#sk-container-id-10 div.sk-parallel-item:last-child::after {align-self: flex-start;width: 50%;}#sk-container-id-10 div.sk-parallel-item:only-child::after {width: 0;}#sk-container-id-10 div.sk-dashed-wrapped {border: 1px dashed gray;margin: 0 0.4em 0.5em 0.4em;box-sizing: border-box;padding-bottom: 0.4em;background-color: white;}#sk-container-id-10 div.sk-label label {font-family: monospace;font-weight: bold;display: inline-block;line-height: 1.2em;}#sk-container-id-10 div.sk-label-container {text-align: center;}#sk-container-id-10 div.sk-container {/* jupyter's `normalize.less` sets `[hidden] { display: none; }` but bootstrap.min.css set `[hidden] { display: none !important; }` so we also need the `!important` here to be able to override the default hidden behavior on the sphinx rendered scikit-learn.org. See: https://github.com/scikit-learn/scikit-learn/issues/21755 */display: inline-block !important;position: relative;}#sk-container-id-10 div.sk-text-repr-fallback {display: none;}</style><div id=\"sk-container-id-10\" class=\"sk-top-container\"><div class=\"sk-text-repr-fallback\"><pre>Pipeline(steps=[(&#x27;randomforestclassifier&#x27;,\n",
       "                 RandomForestClassifier(random_state=42))])</pre><b>In a Jupyter environment, please rerun this cell to show the HTML representation or trust the notebook. <br />On GitHub, the HTML representation is unable to render, please try loading this page with nbviewer.org.</b></div><div class=\"sk-container\" hidden><div class=\"sk-item sk-dashed-wrapped\"><div class=\"sk-label-container\"><div class=\"sk-label sk-toggleable\"><input class=\"sk-toggleable__control sk-hidden--visually\" id=\"sk-estimator-id-29\" type=\"checkbox\" ><label for=\"sk-estimator-id-29\" class=\"sk-toggleable__label sk-toggleable__label-arrow\">Pipeline</label><div class=\"sk-toggleable__content\"><pre>Pipeline(steps=[(&#x27;randomforestclassifier&#x27;,\n",
       "                 RandomForestClassifier(random_state=42))])</pre></div></div></div><div class=\"sk-serial\"><div class=\"sk-item\"><div class=\"sk-estimator sk-toggleable\"><input class=\"sk-toggleable__control sk-hidden--visually\" id=\"sk-estimator-id-30\" type=\"checkbox\" ><label for=\"sk-estimator-id-30\" class=\"sk-toggleable__label sk-toggleable__label-arrow\">RandomForestClassifier</label><div class=\"sk-toggleable__content\"><pre>RandomForestClassifier(random_state=42)</pre></div></div></div></div></div></div></div>"
      ],
      "text/plain": [
       "Pipeline(steps=[('randomforestclassifier',\n",
       "                 RandomForestClassifier(random_state=42))])"
      ]
     },
     "execution_count": 376,
     "metadata": {},
     "output_type": "execute_result"
    }
   ],
   "source": [
    "pipe = make_pipeline( RandomForestClassifier(random_state=42))\n",
    "pipe"
   ]
  },
  {
   "cell_type": "code",
   "execution_count": 377,
   "metadata": {},
   "outputs": [],
   "source": [
    "param_grid = {'randomforestclassifier__n_estimators': [50, 100],\n",
    "              'randomforestclassifier__min_samples_leaf': [1, 5]}\n",
    "gs = GridSearchCV(pipe, param_grid, cv=5)"
   ]
  },
  {
   "cell_type": "code",
   "execution_count": 378,
   "metadata": {},
   "outputs": [
    {
     "data": {
      "text/html": [
       "<style>#sk-container-id-11 {color: black;background-color: white;}#sk-container-id-11 pre{padding: 0;}#sk-container-id-11 div.sk-toggleable {background-color: white;}#sk-container-id-11 label.sk-toggleable__label {cursor: pointer;display: block;width: 100%;margin-bottom: 0;padding: 0.3em;box-sizing: border-box;text-align: center;}#sk-container-id-11 label.sk-toggleable__label-arrow:before {content: \"▸\";float: left;margin-right: 0.25em;color: #696969;}#sk-container-id-11 label.sk-toggleable__label-arrow:hover:before {color: black;}#sk-container-id-11 div.sk-estimator:hover label.sk-toggleable__label-arrow:before {color: black;}#sk-container-id-11 div.sk-toggleable__content {max-height: 0;max-width: 0;overflow: hidden;text-align: left;background-color: #f0f8ff;}#sk-container-id-11 div.sk-toggleable__content pre {margin: 0.2em;color: black;border-radius: 0.25em;background-color: #f0f8ff;}#sk-container-id-11 input.sk-toggleable__control:checked~div.sk-toggleable__content {max-height: 200px;max-width: 100%;overflow: auto;}#sk-container-id-11 input.sk-toggleable__control:checked~label.sk-toggleable__label-arrow:before {content: \"▾\";}#sk-container-id-11 div.sk-estimator input.sk-toggleable__control:checked~label.sk-toggleable__label {background-color: #d4ebff;}#sk-container-id-11 div.sk-label input.sk-toggleable__control:checked~label.sk-toggleable__label {background-color: #d4ebff;}#sk-container-id-11 input.sk-hidden--visually {border: 0;clip: rect(1px 1px 1px 1px);clip: rect(1px, 1px, 1px, 1px);height: 1px;margin: -1px;overflow: hidden;padding: 0;position: absolute;width: 1px;}#sk-container-id-11 div.sk-estimator {font-family: monospace;background-color: #f0f8ff;border: 1px dotted black;border-radius: 0.25em;box-sizing: border-box;margin-bottom: 0.5em;}#sk-container-id-11 div.sk-estimator:hover {background-color: #d4ebff;}#sk-container-id-11 div.sk-parallel-item::after {content: \"\";width: 100%;border-bottom: 1px solid gray;flex-grow: 1;}#sk-container-id-11 div.sk-label:hover label.sk-toggleable__label {background-color: #d4ebff;}#sk-container-id-11 div.sk-serial::before {content: \"\";position: absolute;border-left: 1px solid gray;box-sizing: border-box;top: 0;bottom: 0;left: 50%;z-index: 0;}#sk-container-id-11 div.sk-serial {display: flex;flex-direction: column;align-items: center;background-color: white;padding-right: 0.2em;padding-left: 0.2em;position: relative;}#sk-container-id-11 div.sk-item {position: relative;z-index: 1;}#sk-container-id-11 div.sk-parallel {display: flex;align-items: stretch;justify-content: center;background-color: white;position: relative;}#sk-container-id-11 div.sk-item::before, #sk-container-id-11 div.sk-parallel-item::before {content: \"\";position: absolute;border-left: 1px solid gray;box-sizing: border-box;top: 0;bottom: 0;left: 50%;z-index: -1;}#sk-container-id-11 div.sk-parallel-item {display: flex;flex-direction: column;z-index: 1;position: relative;background-color: white;}#sk-container-id-11 div.sk-parallel-item:first-child::after {align-self: flex-end;width: 50%;}#sk-container-id-11 div.sk-parallel-item:last-child::after {align-self: flex-start;width: 50%;}#sk-container-id-11 div.sk-parallel-item:only-child::after {width: 0;}#sk-container-id-11 div.sk-dashed-wrapped {border: 1px dashed gray;margin: 0 0.4em 0.5em 0.4em;box-sizing: border-box;padding-bottom: 0.4em;background-color: white;}#sk-container-id-11 div.sk-label label {font-family: monospace;font-weight: bold;display: inline-block;line-height: 1.2em;}#sk-container-id-11 div.sk-label-container {text-align: center;}#sk-container-id-11 div.sk-container {/* jupyter's `normalize.less` sets `[hidden] { display: none; }` but bootstrap.min.css set `[hidden] { display: none !important; }` so we also need the `!important` here to be able to override the default hidden behavior on the sphinx rendered scikit-learn.org. See: https://github.com/scikit-learn/scikit-learn/issues/21755 */display: inline-block !important;position: relative;}#sk-container-id-11 div.sk-text-repr-fallback {display: none;}</style><div id=\"sk-container-id-11\" class=\"sk-top-container\"><div class=\"sk-text-repr-fallback\"><pre>GridSearchCV(cv=5,\n",
       "             estimator=Pipeline(steps=[(&#x27;randomforestclassifier&#x27;,\n",
       "                                        RandomForestClassifier(random_state=42))]),\n",
       "             param_grid={&#x27;randomforestclassifier__min_samples_leaf&#x27;: [1, 5],\n",
       "                         &#x27;randomforestclassifier__n_estimators&#x27;: [50, 100]})</pre><b>In a Jupyter environment, please rerun this cell to show the HTML representation or trust the notebook. <br />On GitHub, the HTML representation is unable to render, please try loading this page with nbviewer.org.</b></div><div class=\"sk-container\" hidden><div class=\"sk-item sk-dashed-wrapped\"><div class=\"sk-label-container\"><div class=\"sk-label sk-toggleable\"><input class=\"sk-toggleable__control sk-hidden--visually\" id=\"sk-estimator-id-31\" type=\"checkbox\" ><label for=\"sk-estimator-id-31\" class=\"sk-toggleable__label sk-toggleable__label-arrow\">GridSearchCV</label><div class=\"sk-toggleable__content\"><pre>GridSearchCV(cv=5,\n",
       "             estimator=Pipeline(steps=[(&#x27;randomforestclassifier&#x27;,\n",
       "                                        RandomForestClassifier(random_state=42))]),\n",
       "             param_grid={&#x27;randomforestclassifier__min_samples_leaf&#x27;: [1, 5],\n",
       "                         &#x27;randomforestclassifier__n_estimators&#x27;: [50, 100]})</pre></div></div></div><div class=\"sk-parallel\"><div class=\"sk-parallel-item\"><div class=\"sk-item\"><div class=\"sk-label-container\"><div class=\"sk-label sk-toggleable\"><input class=\"sk-toggleable__control sk-hidden--visually\" id=\"sk-estimator-id-32\" type=\"checkbox\" ><label for=\"sk-estimator-id-32\" class=\"sk-toggleable__label sk-toggleable__label-arrow\">estimator: Pipeline</label><div class=\"sk-toggleable__content\"><pre>Pipeline(steps=[(&#x27;randomforestclassifier&#x27;,\n",
       "                 RandomForestClassifier(random_state=42))])</pre></div></div></div><div class=\"sk-serial\"><div class=\"sk-item\"><div class=\"sk-serial\"><div class=\"sk-item\"><div class=\"sk-estimator sk-toggleable\"><input class=\"sk-toggleable__control sk-hidden--visually\" id=\"sk-estimator-id-33\" type=\"checkbox\" ><label for=\"sk-estimator-id-33\" class=\"sk-toggleable__label sk-toggleable__label-arrow\">RandomForestClassifier</label><div class=\"sk-toggleable__content\"><pre>RandomForestClassifier(random_state=42)</pre></div></div></div></div></div></div></div></div></div></div></div></div>"
      ],
      "text/plain": [
       "GridSearchCV(cv=5,\n",
       "             estimator=Pipeline(steps=[('randomforestclassifier',\n",
       "                                        RandomForestClassifier(random_state=42))]),\n",
       "             param_grid={'randomforestclassifier__min_samples_leaf': [1, 5],\n",
       "                         'randomforestclassifier__n_estimators': [50, 100]})"
      ]
     },
     "execution_count": 378,
     "metadata": {},
     "output_type": "execute_result"
    }
   ],
   "source": [
    "gs.fit(x, train_labels.damage_grade.values.ravel())"
   ]
  },
  {
   "cell_type": "code",
   "execution_count": 379,
   "metadata": {},
   "outputs": [
    {
     "data": {
      "text/plain": [
       "{'randomforestclassifier__min_samples_leaf': 5,\n",
       " 'randomforestclassifier__n_estimators': 100}"
      ]
     },
     "execution_count": 379,
     "metadata": {},
     "output_type": "execute_result"
    }
   ],
   "source": [
    "gs.best_params_\n"
   ]
  },
  {
   "cell_type": "code",
   "execution_count": 380,
   "metadata": {},
   "outputs": [
    {
     "data": {
      "text/plain": [
       "0.6223652249991366"
      ]
     },
     "execution_count": 380,
     "metadata": {},
     "output_type": "execute_result"
    }
   ],
   "source": [
    "\n",
    "from sklearn.metrics import f1_score\n",
    "\n",
    "in_sample_preds = gs.predict(x)\n",
    "f1_score(train_labels.damage_grade.values, in_sample_preds, average='micro')"
   ]
  },
  {
   "cell_type": "code",
   "execution_count": 381,
   "metadata": {},
   "outputs": [],
   "source": [
    "predictions = gs.predict(x_test)"
   ]
  },
  {
   "cell_type": "code",
   "execution_count": 165,
   "metadata": {},
   "outputs": [
    {
     "data": {
      "text/html": [
       "<style>#sk-container-id-4 {color: black;background-color: white;}#sk-container-id-4 pre{padding: 0;}#sk-container-id-4 div.sk-toggleable {background-color: white;}#sk-container-id-4 label.sk-toggleable__label {cursor: pointer;display: block;width: 100%;margin-bottom: 0;padding: 0.3em;box-sizing: border-box;text-align: center;}#sk-container-id-4 label.sk-toggleable__label-arrow:before {content: \"▸\";float: left;margin-right: 0.25em;color: #696969;}#sk-container-id-4 label.sk-toggleable__label-arrow:hover:before {color: black;}#sk-container-id-4 div.sk-estimator:hover label.sk-toggleable__label-arrow:before {color: black;}#sk-container-id-4 div.sk-toggleable__content {max-height: 0;max-width: 0;overflow: hidden;text-align: left;background-color: #f0f8ff;}#sk-container-id-4 div.sk-toggleable__content pre {margin: 0.2em;color: black;border-radius: 0.25em;background-color: #f0f8ff;}#sk-container-id-4 input.sk-toggleable__control:checked~div.sk-toggleable__content {max-height: 200px;max-width: 100%;overflow: auto;}#sk-container-id-4 input.sk-toggleable__control:checked~label.sk-toggleable__label-arrow:before {content: \"▾\";}#sk-container-id-4 div.sk-estimator input.sk-toggleable__control:checked~label.sk-toggleable__label {background-color: #d4ebff;}#sk-container-id-4 div.sk-label input.sk-toggleable__control:checked~label.sk-toggleable__label {background-color: #d4ebff;}#sk-container-id-4 input.sk-hidden--visually {border: 0;clip: rect(1px 1px 1px 1px);clip: rect(1px, 1px, 1px, 1px);height: 1px;margin: -1px;overflow: hidden;padding: 0;position: absolute;width: 1px;}#sk-container-id-4 div.sk-estimator {font-family: monospace;background-color: #f0f8ff;border: 1px dotted black;border-radius: 0.25em;box-sizing: border-box;margin-bottom: 0.5em;}#sk-container-id-4 div.sk-estimator:hover {background-color: #d4ebff;}#sk-container-id-4 div.sk-parallel-item::after {content: \"\";width: 100%;border-bottom: 1px solid gray;flex-grow: 1;}#sk-container-id-4 div.sk-label:hover label.sk-toggleable__label {background-color: #d4ebff;}#sk-container-id-4 div.sk-serial::before {content: \"\";position: absolute;border-left: 1px solid gray;box-sizing: border-box;top: 0;bottom: 0;left: 50%;z-index: 0;}#sk-container-id-4 div.sk-serial {display: flex;flex-direction: column;align-items: center;background-color: white;padding-right: 0.2em;padding-left: 0.2em;position: relative;}#sk-container-id-4 div.sk-item {position: relative;z-index: 1;}#sk-container-id-4 div.sk-parallel {display: flex;align-items: stretch;justify-content: center;background-color: white;position: relative;}#sk-container-id-4 div.sk-item::before, #sk-container-id-4 div.sk-parallel-item::before {content: \"\";position: absolute;border-left: 1px solid gray;box-sizing: border-box;top: 0;bottom: 0;left: 50%;z-index: -1;}#sk-container-id-4 div.sk-parallel-item {display: flex;flex-direction: column;z-index: 1;position: relative;background-color: white;}#sk-container-id-4 div.sk-parallel-item:first-child::after {align-self: flex-end;width: 50%;}#sk-container-id-4 div.sk-parallel-item:last-child::after {align-self: flex-start;width: 50%;}#sk-container-id-4 div.sk-parallel-item:only-child::after {width: 0;}#sk-container-id-4 div.sk-dashed-wrapped {border: 1px dashed gray;margin: 0 0.4em 0.5em 0.4em;box-sizing: border-box;padding-bottom: 0.4em;background-color: white;}#sk-container-id-4 div.sk-label label {font-family: monospace;font-weight: bold;display: inline-block;line-height: 1.2em;}#sk-container-id-4 div.sk-label-container {text-align: center;}#sk-container-id-4 div.sk-container {/* jupyter's `normalize.less` sets `[hidden] { display: none; }` but bootstrap.min.css set `[hidden] { display: none !important; }` so we also need the `!important` here to be able to override the default hidden behavior on the sphinx rendered scikit-learn.org. See: https://github.com/scikit-learn/scikit-learn/issues/21755 */display: inline-block !important;position: relative;}#sk-container-id-4 div.sk-text-repr-fallback {display: none;}</style><div id=\"sk-container-id-4\" class=\"sk-top-container\"><div class=\"sk-text-repr-fallback\"><pre>Pipeline(steps=[(&#x27;standardscaler&#x27;, StandardScaler()),\n",
       "                (&#x27;svc&#x27;, SVC(random_state=42))])</pre><b>In a Jupyter environment, please rerun this cell to show the HTML representation or trust the notebook. <br />On GitHub, the HTML representation is unable to render, please try loading this page with nbviewer.org.</b></div><div class=\"sk-container\" hidden><div class=\"sk-item sk-dashed-wrapped\"><div class=\"sk-label-container\"><div class=\"sk-label sk-toggleable\"><input class=\"sk-toggleable__control sk-hidden--visually\" id=\"sk-estimator-id-11\" type=\"checkbox\" ><label for=\"sk-estimator-id-11\" class=\"sk-toggleable__label sk-toggleable__label-arrow\">Pipeline</label><div class=\"sk-toggleable__content\"><pre>Pipeline(steps=[(&#x27;standardscaler&#x27;, StandardScaler()),\n",
       "                (&#x27;svc&#x27;, SVC(random_state=42))])</pre></div></div></div><div class=\"sk-serial\"><div class=\"sk-item\"><div class=\"sk-estimator sk-toggleable\"><input class=\"sk-toggleable__control sk-hidden--visually\" id=\"sk-estimator-id-12\" type=\"checkbox\" ><label for=\"sk-estimator-id-12\" class=\"sk-toggleable__label sk-toggleable__label-arrow\">StandardScaler</label><div class=\"sk-toggleable__content\"><pre>StandardScaler()</pre></div></div></div><div class=\"sk-item\"><div class=\"sk-estimator sk-toggleable\"><input class=\"sk-toggleable__control sk-hidden--visually\" id=\"sk-estimator-id-13\" type=\"checkbox\" ><label for=\"sk-estimator-id-13\" class=\"sk-toggleable__label sk-toggleable__label-arrow\">SVC</label><div class=\"sk-toggleable__content\"><pre>SVC(random_state=42)</pre></div></div></div></div></div></div></div>"
      ],
      "text/plain": [
       "Pipeline(steps=[('standardscaler', StandardScaler()),\n",
       "                ('svc', SVC(random_state=42))])"
      ]
     },
     "execution_count": 165,
     "metadata": {},
     "output_type": "execute_result"
    }
   ],
   "source": [
    "from sklearn.svm import SVC\n",
    "\n",
    "pipe = make_pipeline(SVC(random_state=42))\n",
    "pipe"
   ]
  },
  {
   "cell_type": "code",
   "execution_count": 166,
   "metadata": {},
   "outputs": [
    {
     "data": {
      "text/html": [
       "<style>#sk-container-id-5 {color: black;background-color: white;}#sk-container-id-5 pre{padding: 0;}#sk-container-id-5 div.sk-toggleable {background-color: white;}#sk-container-id-5 label.sk-toggleable__label {cursor: pointer;display: block;width: 100%;margin-bottom: 0;padding: 0.3em;box-sizing: border-box;text-align: center;}#sk-container-id-5 label.sk-toggleable__label-arrow:before {content: \"▸\";float: left;margin-right: 0.25em;color: #696969;}#sk-container-id-5 label.sk-toggleable__label-arrow:hover:before {color: black;}#sk-container-id-5 div.sk-estimator:hover label.sk-toggleable__label-arrow:before {color: black;}#sk-container-id-5 div.sk-toggleable__content {max-height: 0;max-width: 0;overflow: hidden;text-align: left;background-color: #f0f8ff;}#sk-container-id-5 div.sk-toggleable__content pre {margin: 0.2em;color: black;border-radius: 0.25em;background-color: #f0f8ff;}#sk-container-id-5 input.sk-toggleable__control:checked~div.sk-toggleable__content {max-height: 200px;max-width: 100%;overflow: auto;}#sk-container-id-5 input.sk-toggleable__control:checked~label.sk-toggleable__label-arrow:before {content: \"▾\";}#sk-container-id-5 div.sk-estimator input.sk-toggleable__control:checked~label.sk-toggleable__label {background-color: #d4ebff;}#sk-container-id-5 div.sk-label input.sk-toggleable__control:checked~label.sk-toggleable__label {background-color: #d4ebff;}#sk-container-id-5 input.sk-hidden--visually {border: 0;clip: rect(1px 1px 1px 1px);clip: rect(1px, 1px, 1px, 1px);height: 1px;margin: -1px;overflow: hidden;padding: 0;position: absolute;width: 1px;}#sk-container-id-5 div.sk-estimator {font-family: monospace;background-color: #f0f8ff;border: 1px dotted black;border-radius: 0.25em;box-sizing: border-box;margin-bottom: 0.5em;}#sk-container-id-5 div.sk-estimator:hover {background-color: #d4ebff;}#sk-container-id-5 div.sk-parallel-item::after {content: \"\";width: 100%;border-bottom: 1px solid gray;flex-grow: 1;}#sk-container-id-5 div.sk-label:hover label.sk-toggleable__label {background-color: #d4ebff;}#sk-container-id-5 div.sk-serial::before {content: \"\";position: absolute;border-left: 1px solid gray;box-sizing: border-box;top: 0;bottom: 0;left: 50%;z-index: 0;}#sk-container-id-5 div.sk-serial {display: flex;flex-direction: column;align-items: center;background-color: white;padding-right: 0.2em;padding-left: 0.2em;position: relative;}#sk-container-id-5 div.sk-item {position: relative;z-index: 1;}#sk-container-id-5 div.sk-parallel {display: flex;align-items: stretch;justify-content: center;background-color: white;position: relative;}#sk-container-id-5 div.sk-item::before, #sk-container-id-5 div.sk-parallel-item::before {content: \"\";position: absolute;border-left: 1px solid gray;box-sizing: border-box;top: 0;bottom: 0;left: 50%;z-index: -1;}#sk-container-id-5 div.sk-parallel-item {display: flex;flex-direction: column;z-index: 1;position: relative;background-color: white;}#sk-container-id-5 div.sk-parallel-item:first-child::after {align-self: flex-end;width: 50%;}#sk-container-id-5 div.sk-parallel-item:last-child::after {align-self: flex-start;width: 50%;}#sk-container-id-5 div.sk-parallel-item:only-child::after {width: 0;}#sk-container-id-5 div.sk-dashed-wrapped {border: 1px dashed gray;margin: 0 0.4em 0.5em 0.4em;box-sizing: border-box;padding-bottom: 0.4em;background-color: white;}#sk-container-id-5 div.sk-label label {font-family: monospace;font-weight: bold;display: inline-block;line-height: 1.2em;}#sk-container-id-5 div.sk-label-container {text-align: center;}#sk-container-id-5 div.sk-container {/* jupyter's `normalize.less` sets `[hidden] { display: none; }` but bootstrap.min.css set `[hidden] { display: none !important; }` so we also need the `!important` here to be able to override the default hidden behavior on the sphinx rendered scikit-learn.org. See: https://github.com/scikit-learn/scikit-learn/issues/21755 */display: inline-block !important;position: relative;}#sk-container-id-5 div.sk-text-repr-fallback {display: none;}</style><div id=\"sk-container-id-5\" class=\"sk-top-container\"><div class=\"sk-text-repr-fallback\"><pre>Pipeline(steps=[(&#x27;standardscaler&#x27;, StandardScaler()),\n",
       "                (&#x27;svc&#x27;, SVC(random_state=42))])</pre><b>In a Jupyter environment, please rerun this cell to show the HTML representation or trust the notebook. <br />On GitHub, the HTML representation is unable to render, please try loading this page with nbviewer.org.</b></div><div class=\"sk-container\" hidden><div class=\"sk-item sk-dashed-wrapped\"><div class=\"sk-label-container\"><div class=\"sk-label sk-toggleable\"><input class=\"sk-toggleable__control sk-hidden--visually\" id=\"sk-estimator-id-14\" type=\"checkbox\" ><label for=\"sk-estimator-id-14\" class=\"sk-toggleable__label sk-toggleable__label-arrow\">Pipeline</label><div class=\"sk-toggleable__content\"><pre>Pipeline(steps=[(&#x27;standardscaler&#x27;, StandardScaler()),\n",
       "                (&#x27;svc&#x27;, SVC(random_state=42))])</pre></div></div></div><div class=\"sk-serial\"><div class=\"sk-item\"><div class=\"sk-estimator sk-toggleable\"><input class=\"sk-toggleable__control sk-hidden--visually\" id=\"sk-estimator-id-15\" type=\"checkbox\" ><label for=\"sk-estimator-id-15\" class=\"sk-toggleable__label sk-toggleable__label-arrow\">StandardScaler</label><div class=\"sk-toggleable__content\"><pre>StandardScaler()</pre></div></div></div><div class=\"sk-item\"><div class=\"sk-estimator sk-toggleable\"><input class=\"sk-toggleable__control sk-hidden--visually\" id=\"sk-estimator-id-16\" type=\"checkbox\" ><label for=\"sk-estimator-id-16\" class=\"sk-toggleable__label sk-toggleable__label-arrow\">SVC</label><div class=\"sk-toggleable__content\"><pre>SVC(random_state=42)</pre></div></div></div></div></div></div></div>"
      ],
      "text/plain": [
       "Pipeline(steps=[('standardscaler', StandardScaler()),\n",
       "                ('svc', SVC(random_state=42))])"
      ]
     },
     "execution_count": 166,
     "metadata": {},
     "output_type": "execute_result"
    }
   ],
   "source": [
    "pipe.fit(x, train_labels.damage_grade.values.ravel())"
   ]
  },
  {
   "cell_type": "code",
   "execution_count": 167,
   "metadata": {},
   "outputs": [
    {
     "data": {
      "text/plain": [
       "0.6083514644993687"
      ]
     },
     "execution_count": 167,
     "metadata": {},
     "output_type": "execute_result"
    }
   ],
   "source": [
    "from sklearn.metrics import f1_score\n",
    "\n",
    "in_sample_preds = pipe.predict(x)\n",
    "f1_score(train_labels.damage_grade.values, in_sample_preds, average='micro')"
   ]
  },
  {
   "cell_type": "code",
   "execution_count": 382,
   "metadata": {},
   "outputs": [],
   "source": [
    "import torchvision\n",
    "from torch.utils.data import Dataset, DataLoader\n",
    "from torchvision import datasets, transforms\n",
    "\n",
    "class DS(Dataset):\n",
    "     def __init__(self, x,y, classes=3):\n",
    "         super(Dataset, self).__init__()\n",
    "         self.x = torch.tensor(x).float()\n",
    "         self.classes = classes\n",
    "         self.y = (torch.tensor(y) - torch.ones(size=y.shape)).long()\n",
    "        #  self.y = torch.zeros(size=(len(self.x), classes)).long()\n",
    "        #  labels = (torch.tensor(y) - torch.ones(size=y.shape)).long()\n",
    "        #  for i in range(len(self.y)):\n",
    "        #      self.y[i][labels[i]] = 1\n",
    "        \n",
    "     def __len__(self):\n",
    "         return len(x)\n",
    "        \n",
    "     def __getitem__(self, index):\n",
    "        assert self.__len__() > index\n",
    "        return self.x[index], self.y[index]\n",
    "\n",
    "ds = DS(x, labels)\n",
    "train_size = int(0.9 * len(ds))\n",
    "val_size = len(ds) - train_size\n",
    "train_dataset, val_dataset = torch.utils.data.random_split(ds, [train_size, val_size])\n",
    "\n",
    "train_dataloader = DataLoader(train_dataset, batch_size=64, shuffle=True)\n",
    "test_dataloader = DataLoader(val_dataset, batch_size=64, shuffle=True)"
   ]
  },
  {
   "cell_type": "code",
   "execution_count": 383,
   "metadata": {},
   "outputs": [],
   "source": [
    "import torch.nn as nn\n",
    "\n",
    "class DNN(nn.Module):\n",
    "  def __init__(self, input_size, classes):\n",
    "    super().__init__()\n",
    "    self.input_size = input_size\n",
    "    self.classes = classes\n",
    "    ################################# TODO #########################################\n",
    "    # Create the network architecture using a nn.Sequential module wrapper.        #\n",
    "    # Encoder Architecture:                                                        #\n",
    "    # - input_size -> 256                                                          #\n",
    "    # - ReLU                                                                       #\n",
    "    # - 256 -> 64                                                                  #\n",
    "    # - ReLU                                                                       #\n",
    "    # - 64 -> nz                                                                   #\n",
    "    # HINT: Verify the shapes of intermediate layers by running partial networks   #\n",
    "    #        (with the next notebook cell) and visualizing the output shapes.      #\n",
    "    ################################################################################\n",
    "    self.net = nn.Sequential(\n",
    "        nn.Linear(self.input_size,16),\n",
    "        nn.ReLU(),\n",
    "        # nn.Dropout(p=0.2),\n",
    "        nn.Linear(16,self.classes),\n",
    "        # nn.ReLU(),\n",
    "        # nn.Dropout(p=0.2),\n",
    "        # nn.Linear(32, self.classes),\n",
    "        nn.Sigmoid()\n",
    "    )\n",
    "\n",
    "    ################################ END TODO #######################################\n",
    "  \n",
    "  def forward(self, x):\n",
    "    return self.net(x)\n",
    "  \n",
    "  def loss(self, criterion, output, target):\n",
    "    return criterion(output, target)\n",
    "\n",
    "model = DNN(x.shape[1], 3)"
   ]
  },
  {
   "cell_type": "code",
   "execution_count": 384,
   "metadata": {},
   "outputs": [
    {
     "data": {
      "text/plain": [
       "array([-0.17827372,  0.0471003 , -0.45946001, -0.22641883,  1.        ,\n",
       "        0.        ,  0.        ,  1.        ,  0.        ,  0.        ,\n",
       "        0.        ,  0.        ,  1.        ,  0.        ,  0.        ,\n",
       "        1.        ,  0.        ,  0.        ,  0.        ,  0.        ])"
      ]
     },
     "execution_count": 384,
     "metadata": {},
     "output_type": "execute_result"
    }
   ],
   "source": [
    "ds.x[0]\n",
    "x[0]"
   ]
  },
  {
   "cell_type": "code",
   "execution_count": 386,
   "metadata": {},
   "outputs": [
    {
     "name": "stdout",
     "output_type": "stream",
     "text": [
      "Run Epoch 0\n",
      "It 0: Reconstruction Loss: 0.8635484576225281\n",
      "It 100: Reconstruction Loss: 0.9076242446899414\n",
      "It 200: Reconstruction Loss: 0.8861074447631836\n",
      "It 300: Reconstruction Loss: 0.9113754630088806\n",
      "It 400: Reconstruction Loss: 0.8945163488388062\n",
      "It 500: Reconstruction Loss: 0.9342072606086731\n",
      "It 600: Reconstruction Loss: 0.8682119846343994\n",
      "It 700: Reconstruction Loss: 0.9011333584785461\n",
      "It 800: Reconstruction Loss: 0.8927258849143982\n",
      "It 900: Reconstruction Loss: 0.9319196939468384\n",
      "It 1000: Reconstruction Loss: 0.9696670770645142\n",
      "It 1100: Reconstruction Loss: 0.8479469418525696\n",
      "It 1200: Reconstruction Loss: 0.8475560545921326\n",
      "It 1300: Reconstruction Loss: 0.8621155023574829\n",
      "It 1400: Reconstruction Loss: 0.8746597170829773\n",
      "It 1500: Reconstruction Loss: 0.8856027126312256\n",
      "It 1600: Reconstruction Loss: 0.9381271004676819\n",
      "It 1700: Reconstruction Loss: 0.8848254680633545\n",
      "It 1800: Reconstruction Loss: 0.8937201499938965\n",
      "It 1900: Reconstruction Loss: 0.8609103560447693\n",
      "It 2000: Reconstruction Loss: 0.8931272625923157\n",
      "It 2100: Reconstruction Loss: 0.8931991457939148\n",
      "It 2200: Reconstruction Loss: 0.875527024269104\n",
      "It 2300: Reconstruction Loss: 0.9010948538780212\n",
      "It 2400: Reconstruction Loss: 0.8387009501457214\n",
      "It 2500: Reconstruction Loss: 0.9119306802749634\n",
      "It 2600: Reconstruction Loss: 0.9042522311210632\n",
      "It 2700: Reconstruction Loss: 0.8817414045333862\n",
      "It 2800: Reconstruction Loss: 0.8689101934432983\n",
      "It 2900: Reconstruction Loss: 0.9572999477386475\n",
      "It 3000: Reconstruction Loss: 0.8738334774971008\n",
      "It 3100: Reconstruction Loss: 0.9495909810066223\n",
      "It 3200: Reconstruction Loss: 0.8640861511230469\n",
      "It 3300: Reconstruction Loss: 0.9397074580192566\n",
      "It 3400: Reconstruction Loss: 0.9098396301269531\n",
      "It 3500: Reconstruction Loss: 0.8996987342834473\n",
      "It 3600: Reconstruction Loss: 0.8919286131858826\n",
      "Run Epoch 1\n",
      "It 3700: Reconstruction Loss: 0.8933929800987244\n",
      "It 3800: Reconstruction Loss: 0.9099723696708679\n",
      "It 3900: Reconstruction Loss: 0.9105862975120544\n",
      "It 4000: Reconstruction Loss: 0.9403632879257202\n",
      "It 4100: Reconstruction Loss: 0.887374222278595\n",
      "It 4200: Reconstruction Loss: 0.8592429757118225\n",
      "It 4300: Reconstruction Loss: 0.9255032539367676\n",
      "It 4400: Reconstruction Loss: 0.8997215032577515\n",
      "It 4500: Reconstruction Loss: 0.9260053038597107\n",
      "It 4600: Reconstruction Loss: 0.8649007081985474\n",
      "It 4700: Reconstruction Loss: 0.8629746437072754\n",
      "It 4800: Reconstruction Loss: 0.8936758637428284\n",
      "It 4900: Reconstruction Loss: 0.8940874934196472\n",
      "It 5000: Reconstruction Loss: 0.8601946234703064\n",
      "It 5100: Reconstruction Loss: 0.9301246404647827\n",
      "It 5200: Reconstruction Loss: 0.9427931904792786\n",
      "It 5300: Reconstruction Loss: 0.9071677327156067\n",
      "It 5400: Reconstruction Loss: 0.9402053952217102\n",
      "It 5500: Reconstruction Loss: 0.8831174969673157\n",
      "It 5600: Reconstruction Loss: 0.8933500051498413\n",
      "It 5700: Reconstruction Loss: 0.8638315796852112\n",
      "It 5800: Reconstruction Loss: 0.8910782337188721\n",
      "It 5900: Reconstruction Loss: 0.9366258382797241\n",
      "It 6000: Reconstruction Loss: 0.8699359893798828\n",
      "It 6100: Reconstruction Loss: 0.9209465384483337\n",
      "It 6200: Reconstruction Loss: 0.8622177243232727\n",
      "It 6300: Reconstruction Loss: 0.8751651644706726\n",
      "It 6400: Reconstruction Loss: 0.912712812423706\n",
      "It 6500: Reconstruction Loss: 0.8760886192321777\n",
      "It 6600: Reconstruction Loss: 0.9009223580360413\n",
      "It 6700: Reconstruction Loss: 0.8855239748954773\n",
      "It 6800: Reconstruction Loss: 0.9083889722824097\n",
      "It 6900: Reconstruction Loss: 0.8491259217262268\n",
      "It 7000: Reconstruction Loss: 0.9216499328613281\n",
      "It 7100: Reconstruction Loss: 0.9206376671791077\n",
      "It 7200: Reconstruction Loss: 0.8382282257080078\n",
      "It 7300: Reconstruction Loss: 0.8683164715766907\n",
      "Run Epoch 2\n",
      "It 7400: Reconstruction Loss: 0.936486005783081\n",
      "It 7500: Reconstruction Loss: 0.9151667356491089\n",
      "It 7600: Reconstruction Loss: 0.9439533352851868\n",
      "It 7700: Reconstruction Loss: 0.8929880261421204\n",
      "It 7800: Reconstruction Loss: 0.8480750918388367\n",
      "It 7900: Reconstruction Loss: 0.8875232338905334\n",
      "It 8000: Reconstruction Loss: 0.8865159749984741\n",
      "It 8100: Reconstruction Loss: 0.9069129824638367\n",
      "It 8200: Reconstruction Loss: 0.8712798357009888\n",
      "It 8300: Reconstruction Loss: 0.9488348960876465\n",
      "It 8400: Reconstruction Loss: 0.9034700989723206\n",
      "It 8500: Reconstruction Loss: 0.9117031097412109\n",
      "It 8600: Reconstruction Loss: 0.8969792127609253\n",
      "It 8700: Reconstruction Loss: 0.8539491891860962\n",
      "It 8800: Reconstruction Loss: 0.9413118362426758\n",
      "It 8900: Reconstruction Loss: 0.8847766518592834\n",
      "It 9000: Reconstruction Loss: 0.8348397016525269\n",
      "It 9100: Reconstruction Loss: 0.8633237481117249\n",
      "It 9200: Reconstruction Loss: 0.8791141510009766\n",
      "It 9300: Reconstruction Loss: 0.8901653289794922\n",
      "It 9400: Reconstruction Loss: 0.8491325378417969\n",
      "It 9500: Reconstruction Loss: 0.927585780620575\n",
      "It 9600: Reconstruction Loss: 0.8261562585830688\n",
      "It 9700: Reconstruction Loss: 0.8634640574455261\n",
      "It 9800: Reconstruction Loss: 0.9128730893135071\n",
      "It 9900: Reconstruction Loss: 0.9110118746757507\n",
      "It 10000: Reconstruction Loss: 0.8734458684921265\n",
      "It 10100: Reconstruction Loss: 0.8717682361602783\n",
      "It 10200: Reconstruction Loss: 0.8691285252571106\n",
      "It 10300: Reconstruction Loss: 0.836287796497345\n",
      "It 10400: Reconstruction Loss: 0.8701152801513672\n",
      "It 10500: Reconstruction Loss: 0.8951001763343811\n",
      "It 10600: Reconstruction Loss: 0.9158985018730164\n",
      "It 10700: Reconstruction Loss: 0.8906786441802979\n",
      "It 10800: Reconstruction Loss: 0.8699308633804321\n",
      "It 10900: Reconstruction Loss: 0.8715003728866577\n",
      "Run Epoch 3\n",
      "It 11000: Reconstruction Loss: 0.8713714480400085\n",
      "It 11100: Reconstruction Loss: 0.8796276450157166\n",
      "It 11200: Reconstruction Loss: 0.9131303429603577\n",
      "It 11300: Reconstruction Loss: 0.8716092109680176\n",
      "It 11400: Reconstruction Loss: 0.8735766410827637\n",
      "It 11500: Reconstruction Loss: 0.8497921228408813\n",
      "It 11600: Reconstruction Loss: 0.9306546449661255\n",
      "It 11700: Reconstruction Loss: 0.8999884724617004\n",
      "It 11800: Reconstruction Loss: 0.8572099804878235\n",
      "It 11900: Reconstruction Loss: 0.9839644432067871\n",
      "It 12000: Reconstruction Loss: 0.925092875957489\n",
      "It 12100: Reconstruction Loss: 0.9266872406005859\n",
      "It 12200: Reconstruction Loss: 0.8775224089622498\n",
      "It 12300: Reconstruction Loss: 0.9012836813926697\n",
      "It 12400: Reconstruction Loss: 0.9047234058380127\n",
      "It 12500: Reconstruction Loss: 0.885229229927063\n",
      "It 12600: Reconstruction Loss: 0.8833922147750854\n",
      "It 12700: Reconstruction Loss: 0.9314084649085999\n",
      "It 12800: Reconstruction Loss: 0.8563291430473328\n",
      "It 12900: Reconstruction Loss: 0.8981846570968628\n",
      "It 13000: Reconstruction Loss: 0.886038064956665\n",
      "It 13100: Reconstruction Loss: 0.901698648929596\n",
      "It 13200: Reconstruction Loss: 0.9168701767921448\n",
      "It 13300: Reconstruction Loss: 0.8872344493865967\n",
      "It 13400: Reconstruction Loss: 0.8591372966766357\n",
      "It 13500: Reconstruction Loss: 0.8962472677230835\n",
      "It 13600: Reconstruction Loss: 0.8509542346000671\n",
      "It 13700: Reconstruction Loss: 0.8454393148422241\n",
      "It 13800: Reconstruction Loss: 0.8991852402687073\n",
      "It 13900: Reconstruction Loss: 0.8787087202072144\n",
      "It 14000: Reconstruction Loss: 0.8654569983482361\n",
      "It 14100: Reconstruction Loss: 0.8975589275360107\n"
     ]
    },
    {
     "ename": "KeyboardInterrupt",
     "evalue": "",
     "output_type": "error",
     "traceback": [
      "\u001b[0;31m---------------------------------------------------------------------------\u001b[0m",
      "\u001b[0;31mKeyboardInterrupt\u001b[0m                         Traceback (most recent call last)",
      "Cell \u001b[0;32mIn[386], line 34\u001b[0m\n\u001b[1;32m     30\u001b[0m outputs \u001b[38;5;241m=\u001b[39m model(inputs)\n\u001b[1;32m     32\u001b[0m loss \u001b[38;5;241m=\u001b[39m model\u001b[38;5;241m.\u001b[39mloss(criterion, outputs, target)\n\u001b[0;32m---> 34\u001b[0m \u001b[43mloss\u001b[49m\u001b[38;5;241;43m.\u001b[39;49m\u001b[43mbackward\u001b[49m\u001b[43m(\u001b[49m\u001b[43m)\u001b[49m\n\u001b[1;32m     36\u001b[0m optimizer\u001b[38;5;241m.\u001b[39mstep()\n\u001b[1;32m     38\u001b[0m \u001b[38;5;28;01mif\u001b[39;00m train_it \u001b[38;5;241m%\u001b[39m \u001b[38;5;241m100\u001b[39m \u001b[38;5;241m==\u001b[39m \u001b[38;5;241m0\u001b[39m:\n",
      "File \u001b[0;32m~/miniconda3/envs/dl/lib/python3.10/site-packages/torch/_tensor.py:396\u001b[0m, in \u001b[0;36mTensor.backward\u001b[0;34m(self, gradient, retain_graph, create_graph, inputs)\u001b[0m\n\u001b[1;32m    <a href='file:///~/miniconda3/envs/dl/lib/python3.10/site-packages/torch/_tensor.py?line=386'>387</a>\u001b[0m \u001b[39mif\u001b[39;00m has_torch_function_unary(\u001b[39mself\u001b[39m):\n\u001b[1;32m    <a href='file:///~/miniconda3/envs/dl/lib/python3.10/site-packages/torch/_tensor.py?line=387'>388</a>\u001b[0m     \u001b[39mreturn\u001b[39;00m handle_torch_function(\n\u001b[1;32m    <a href='file:///~/miniconda3/envs/dl/lib/python3.10/site-packages/torch/_tensor.py?line=388'>389</a>\u001b[0m         Tensor\u001b[39m.\u001b[39mbackward,\n\u001b[1;32m    <a href='file:///~/miniconda3/envs/dl/lib/python3.10/site-packages/torch/_tensor.py?line=389'>390</a>\u001b[0m         (\u001b[39mself\u001b[39m,),\n\u001b[0;32m   (...)\u001b[0m\n\u001b[1;32m    <a href='file:///~/miniconda3/envs/dl/lib/python3.10/site-packages/torch/_tensor.py?line=393'>394</a>\u001b[0m         create_graph\u001b[39m=\u001b[39mcreate_graph,\n\u001b[1;32m    <a href='file:///~/miniconda3/envs/dl/lib/python3.10/site-packages/torch/_tensor.py?line=394'>395</a>\u001b[0m         inputs\u001b[39m=\u001b[39minputs)\n\u001b[0;32m--> <a href='file:///~/miniconda3/envs/dl/lib/python3.10/site-packages/torch/_tensor.py?line=395'>396</a>\u001b[0m torch\u001b[39m.\u001b[39;49mautograd\u001b[39m.\u001b[39;49mbackward(\u001b[39mself\u001b[39;49m, gradient, retain_graph, create_graph, inputs\u001b[39m=\u001b[39;49minputs)\n",
      "File \u001b[0;32m~/miniconda3/envs/dl/lib/python3.10/site-packages/torch/autograd/__init__.py:173\u001b[0m, in \u001b[0;36mbackward\u001b[0;34m(tensors, grad_tensors, retain_graph, create_graph, grad_variables, inputs)\u001b[0m\n\u001b[1;32m    <a href='file:///~/miniconda3/envs/dl/lib/python3.10/site-packages/torch/autograd/__init__.py?line=167'>168</a>\u001b[0m     retain_graph \u001b[39m=\u001b[39m create_graph\n\u001b[1;32m    <a href='file:///~/miniconda3/envs/dl/lib/python3.10/site-packages/torch/autograd/__init__.py?line=169'>170</a>\u001b[0m \u001b[39m# The reason we repeat same the comment below is that\u001b[39;00m\n\u001b[1;32m    <a href='file:///~/miniconda3/envs/dl/lib/python3.10/site-packages/torch/autograd/__init__.py?line=170'>171</a>\u001b[0m \u001b[39m# some Python versions print out the first line of a multi-line function\u001b[39;00m\n\u001b[1;32m    <a href='file:///~/miniconda3/envs/dl/lib/python3.10/site-packages/torch/autograd/__init__.py?line=171'>172</a>\u001b[0m \u001b[39m# calls in the traceback and some print out the last line\u001b[39;00m\n\u001b[0;32m--> <a href='file:///~/miniconda3/envs/dl/lib/python3.10/site-packages/torch/autograd/__init__.py?line=172'>173</a>\u001b[0m Variable\u001b[39m.\u001b[39;49m_execution_engine\u001b[39m.\u001b[39;49mrun_backward(  \u001b[39m# Calls into the C++ engine to run the backward pass\u001b[39;49;00m\n\u001b[1;32m    <a href='file:///~/miniconda3/envs/dl/lib/python3.10/site-packages/torch/autograd/__init__.py?line=173'>174</a>\u001b[0m     tensors, grad_tensors_, retain_graph, create_graph, inputs,\n\u001b[1;32m    <a href='file:///~/miniconda3/envs/dl/lib/python3.10/site-packages/torch/autograd/__init__.py?line=174'>175</a>\u001b[0m     allow_unreachable\u001b[39m=\u001b[39;49m\u001b[39mTrue\u001b[39;49;00m, accumulate_grad\u001b[39m=\u001b[39;49m\u001b[39mTrue\u001b[39;49;00m)\n",
      "\u001b[0;31mKeyboardInterrupt\u001b[0m: "
     ]
    }
   ],
   "source": [
    "from torch import optim, nn\n",
    "\n",
    "\n",
    "device = torch.device(\"cpu\")\n",
    "# Prob1-2\n",
    "epochs = 16\n",
    "learning_rate = 1e-5\n",
    "# set model in train mode \n",
    "model = model.train()   \n",
    "# build optimizer and loss function\n",
    "criterion = nn.CrossEntropyLoss().to(device)\n",
    "optimizer = optim.Adam(model.parameters(), lr=learning_rate)\n",
    "\n",
    "#################################### END TODO #######################################\n",
    "\n",
    "train_it = 0\n",
    "rec_loss = 0\n",
    "batch_size = 64\n",
    "in_size = out_size = 224\n",
    "for ep in range(epochs):\n",
    "  print(\"Run Epoch {}\".format(ep))\n",
    "\n",
    "  for inputs, target in train_dataloader: # loads a batch of data    \n",
    "    optimizer.zero_grad()\n",
    "\n",
    "    # inputs = torch.tensor(inputs, requires_grad=True, dtype=torch.float)\n",
    "    # target = target.view(-1,1)\n",
    "\n",
    "\n",
    "    outputs = model(inputs)\n",
    "\n",
    "    loss = model.loss(criterion, outputs, target)\n",
    "    \n",
    "    loss.backward()\n",
    "\n",
    "    optimizer.step()\n",
    "\n",
    "    if train_it % 100 == 0:\n",
    "      print(\"It {}: Reconstruction Loss: {}\".format(train_it, loss))\n",
    "    train_it += 1\n",
    "  # #################################### END TODO #####################################\n",
    "\n",
    "print(\"Done!\")\n"
   ]
  },
  {
   "cell_type": "code",
   "execution_count": null,
   "metadata": {},
   "outputs": [],
   "source": []
  }
 ],
 "metadata": {
  "interpreter": {
   "hash": "4baea1db128b6e0fe0ff8d90cfbfcf2351a097a5ce8a361564b367ec93daf7a4"
  },
  "kernelspec": {
   "display_name": "Python 3.10.10 ('dl')",
   "language": "python",
   "name": "python3"
  },
  "language_info": {
   "codemirror_mode": {
    "name": "ipython",
    "version": 3
   },
   "file_extension": ".py",
   "mimetype": "text/x-python",
   "name": "python",
   "nbconvert_exporter": "python",
   "pygments_lexer": "ipython3",
   "version": "3.10.10"
  },
  "orig_nbformat": 4
 },
 "nbformat": 4,
 "nbformat_minor": 2
}
